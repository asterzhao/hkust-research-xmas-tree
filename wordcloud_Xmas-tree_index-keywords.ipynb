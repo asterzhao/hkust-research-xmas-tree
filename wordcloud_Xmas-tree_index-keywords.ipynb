{
 "cells": [
  {
   "cell_type": "code",
   "execution_count": null,
   "id": "de451730-efe5-4eca-bb2b-07350e0bfdbb",
   "metadata": {},
   "outputs": [],
   "source": [
    "# pip install wordcloud numpy matplotlib pillow"
   ]
  },
  {
   "cell_type": "code",
   "execution_count": null,
   "id": "7c167288-2064-4ffc-a1f2-fbfd4f88d19b",
   "metadata": {},
   "outputs": [],
   "source": [
    "import numpy as np\n",
    "import pandas as pd\n",
    "from PIL import Image\n",
    "from wordcloud import WordCloud, STOPWORDS\n",
    "import matplotlib.pyplot as plt\n",
    "import random\n",
    "\n",
    "# Load the custom mask image (Christmas tree shape)\n",
    "mask_image = np.array(Image.open(\"christmas_tree.png\"))\n",
    "\n",
    "# Read the \"Index Keywords\" column from the CSV file\n",
    "# Replace with your own file\n",
    "df = pd.read_csv(\"hkust_pub_2024_scopus.csv\") \n",
    "if \"Index Keywords\" not in df.columns:\n",
    "    raise ValueError(\"The file must contain a column named 'Index Keywords'.\")\n",
    "\n",
    "# Combine all text from the \"Index Keywords\" column into a single string\n",
    "text = \" \".join(df[\"Index Keywords\"].dropna())\n",
    "\n",
    "# Remove stop words\n",
    "stopwords = set(STOPWORDS)\n",
    "\n",
    "# Define a custom color function for Christmas colors\n",
    "def christmas_color_func(word, font_size, position, orientation, random_state=None, **kwargs):\n",
    "    red = (255, random.randint(50, 150), random.randint(50, 150))\n",
    "    green = (random.randint(50, 150), 255, random.randint(50, 150))\n",
    "    gold = (255, 223, random.randint(50, 100))\n",
    "    colors = [red, green, gold]\n",
    "    chosen_color = random.choice(colors)\n",
    "    scale = font_size / 100  # Scale brightness by font size\n",
    "    scaled_color = tuple(int(c * scale) for c in chosen_color)\n",
    "    return f\"rgb{scaled_color}\"\n",
    "\n",
    "# Generate the word cloud with high resolution\n",
    "wordcloud = WordCloud(\n",
    "    background_color=\"white\",\n",
    "    mask=mask_image,\n",
    "    contour_width=3,\n",
    "    contour_color=\"black\",\n",
    "    max_words=200,\n",
    "    stopwords=stopwords,\n",
    "    color_func=christmas_color_func,\n",
    "    width=3000,\n",
    "    height=3000,\n",
    ").generate(text)\n",
    "\n",
    "# Directly save the word cloud as a high-resolution image\n",
    "wordcloud.to_file(\"christmas_tree_wordcloud.png\")\n",
    "\n",
    "# Display the word cloud using Matplotlib\n",
    "plt.figure(figsize=(12, 12))  # Ensure the figure size matches the word cloud dimensions\n",
    "plt.imshow(wordcloud, interpolation=\"bilinear\")  # Bilinear for smooth rendering\n",
    "plt.axis(\"off\")\n",
    "plt.title(\"Merry Christmas!\", fontsize=20)\n",
    "\n",
    "# Save the image with high DPI\n",
    "plt.savefig(\"christmas_tree_wordcloud_matplotlib.png\", dpi=300, bbox_inches=\"tight\", pad_inches=0)\n",
    "plt.show()"
   ]
  }
 ],
 "metadata": {
  "kernelspec": {
   "display_name": "Python 3 (ipykernel)",
   "language": "python",
   "name": "python3"
  },
  "language_info": {
   "codemirror_mode": {
    "name": "ipython",
    "version": 3
   },
   "file_extension": ".py",
   "mimetype": "text/x-python",
   "name": "python",
   "nbconvert_exporter": "python",
   "pygments_lexer": "ipython3",
   "version": "3.9.12"
  }
 },
 "nbformat": 4,
 "nbformat_minor": 5
}
